{
 "cells": [
  {
   "cell_type": "markdown",
   "metadata": {},
   "source": [
    "# ShEX shapes creation from Bioschemas YAML\n",
    "\n",
    "* Authors: Leyla Garcia (1)\n",
    "* (1) ZBMED Information Centre for Life Sciences, Cologne, Germany\n",
    "\n",
    "* GitHub repository:  https://github.com/biotea/validation-shapes-bioschemas\n",
    "* License: Apache 2.0\n",
    "\n",
    "* Acknowledgements: This notebook was created during the NBDC / DBCLS BioHackathon 2019, we thank the organizer for their invitation to participate in this event. We also thank the Schemas group created during the event, special thanks to Jose Labra.\n",
    "\n",
    "## Input\n",
    "* Bioschemas YAML file \n",
    "* Example at https://github.com/biotea/validation-shapes-bioschemas/blob/master/journal.yaml\n",
    "\n",
    "## Output\n",
    "* ShEX shape\n",
    "* Example at https://github.com/biotea/validation-shapes-bioschemas/blob/master/generatedJournal.shex\n",
    "\n",
    "## Process\n",
    "* Make sure journal.yaml is at the same path as this book\n",
    "* This notebook works as follow\n",
    "  * Load a YAML file generated from https://github.com/BioSchemas/bioschemas-goweb (or a compatible one created by any other means)\n",
    "  * By now, only working with local files (ToDo: allow loading from URL, and from Bioschemas HTML pages in github.io)\n",
    "  * Parse profile properties in order to generate shapes\n",
    "  * Call main function parseProperties three times, for minimum, recommended and optional properties\n",
    "  * Add partial shapes to profile final shape\n",
    "* Disclaimer: We have tested this ShEX shapes creator with Biotea-Bioschemas profile for Journal, further testing and adjusts are needed. Please report any bugs via GitHub issues\n",
    "\n",
    "\n",
    "## Trying out the shape validation\n",
    "* Go to http://rdfshape.weso.es/validate\n",
    "* Run the validator with the generated shapes and the input example, everything should pass\n"
   ]
  },
  {
   "cell_type": "code",
   "execution_count": 35,
   "metadata": {},
   "outputs": [],
   "source": [
    "#Import libraries\n",
    "import json\n",
    "from yaml import load\n",
    "try:\n",
    "    from yaml import CLoader as Loader\n",
    "except ImportError:\n",
    "    from yaml import Loader\n",
    "import pandas as pd"
   ]
  },
  {
   "cell_type": "code",
   "execution_count": 55,
   "metadata": {
    "scrolled": true
   },
   "outputs": [],
   "source": [
    "#Parse expected types and populate arrays for data and object types\n",
    "def parseExpectedTypes(elem, exprDataType, exprObjType):\n",
    "    for exType in elem['expected_types']:\n",
    "        if exType == 'Boolean':\n",
    "            exprDataType.append('xsd:boolean')\n",
    "        elif exType == 'Date':\n",
    "            exprDataType.append('xsd:date')\n",
    "        elif exType == 'DateTime':\n",
    "            exprDataType.append('xsd:dateTime')\n",
    "        elif exType == 'Number':\n",
    "            exprDataType.append('xsd:double')\n",
    "        elif exType == 'Text': \n",
    "            exprDataType.append('xsd:string')\n",
    "        elif exType == 'Time':\n",
    "            exprDataType.append('xsd:time')\n",
    "        elif exType == 'Float':\n",
    "            exprDataType.append('xsd:float')\n",
    "        elif exType == 'Integer':\n",
    "            exprDataType.append('xsd:integer')\n",
    "        elif exType == 'URL':\n",
    "            exprDataType.append('@<URL>')\n",
    "        else:\n",
    "            exprObjType.append(exType) "
   ]
  },
  {
   "cell_type": "code",
   "execution_count": 30,
   "metadata": {},
   "outputs": [],
   "source": [
    "#Parse object type properties to get information for the main shape and additional supporting shapes \n",
    "#(contatining all possible types when multiple are allowed for a property)\n",
    "def parseObjProperties (exprObjType, addShapes):\n",
    "    shape = ''\n",
    "    if len(exprObjType) == 1:\n",
    "        shape += ' {a [schema:' + exprObjType[0] + ']} OR IRI'\n",
    "    elif len(exprObjType) > 0:\n",
    "        separator = 'Or'\n",
    "        exprObjTypeName = '<' + separator.join(exprObjType) + '>'\n",
    "        shape += ' @' + exprObjTypeName\n",
    "        shape += ' OR IRI'\n",
    "        separator = ' schema:'\n",
    "        exprObjType.insert(0, '')\n",
    "        addShapes.append('\\n' + exprObjTypeName + '{\\n  rdf:type [' + separator.join(exprObjType) + ']\\n}')\n",
    "    return shape"
   ]
  },
  {
   "cell_type": "code",
   "execution_count": 31,
   "metadata": {},
   "outputs": [],
   "source": [
    "#Parse properties corresponding to a particular group Minimum, Recommended or Optional\n",
    "def parseProperties (mainShapeName, profileType, propList, symbolOne, symbolMany, addShapes):  \n",
    "    shape = '\\n<' + mainShapeName + '> {\\n  rdf:type [' + profileType + '] ;'\n",
    "    for elem in propList:\n",
    "        shape += '\\n  schema:' + elem['property']\n",
    "        exprDataType = []\n",
    "        exprObjType = []\n",
    "        shapeObjType = ''\n",
    "        \n",
    "        parseExpectedTypes(elem, exprDataType, exprObjType)\n",
    "        \n",
    "        separator = ' OR '\n",
    "        shape += ' ' + separator.join(exprDataType)\n",
    "\n",
    "        if (len(exprDataType) > 0) and  (len(exprObjType) > 0):\n",
    "            shape += ' OR'\n",
    "\n",
    "        shape += parseObjProperties (exprObjType, addShapes)\n",
    "\n",
    "        if elem['cardinality'] == 'ONE':\n",
    "            shape += ' ' + symbolOne\n",
    "        else:\n",
    "            shape += ' ' + symbolMany\n",
    "        \n",
    "        shape += ' ;'\n",
    "        \n",
    "    shape += '\\n}\\n'  \n",
    "    return shape\n"
   ]
  },
  {
   "cell_type": "code",
   "execution_count": 32,
   "metadata": {},
   "outputs": [],
   "source": [
    "#Parse some properties by marginality from the JSON array obtained from YAML file\n",
    "def parseMarginality(profileName, profileType, marginality, marginalShapes, symbolOne, symbolMany, data):\n",
    "    #Parse minimum properties from the JSON array obtained from YAML file\n",
    "    someProp = [el for el in data if el['marginality'] == marginality]\n",
    "    someShape = parseProperties (profileName + marginality, profileType, someProp, symbolOne, symbolMany, marginalShapes)\n",
    "    return someShape"
   ]
  },
  {
   "cell_type": "code",
   "execution_count": 33,
   "metadata": {},
   "outputs": [],
   "source": [
    "#Create all required shapes to validate a profile\n",
    "def createShapesFromProfile(profileName, profileType, data): \n",
    "    fullShape = 'PREFIX schema: <http://schema.org/> \\n\\\n",
    "    PREFIX rdf: <http://www.w3.org/1999/02/22-rdf-syntax-ns#> \\n\\\n",
    "    PREFIX rdfs: <http://www.w3.org/2000/01/rdf-schema#> \\n\\\n",
    "    PREFIX xsd: <http://www.w3.org/2001/XMLSchema#> \\n\\\n",
    "    <URL> \\n\\\n",
    "      xsd:string OR IRI\\n\\\n",
    "    '\n",
    "    #Parse minimum properties from the JSON array obtained from YAML file\n",
    "    minAddShapes = []\n",
    "    minShape = parseMarginality(profileName, profileType, 'Minimum', minAddShapes, '', '+', data)\n",
    "    fullShape += minShape\n",
    "\n",
    "    #Parse recommended properties from the JSON array obtained from YAML file\n",
    "    recAddShapes = []\n",
    "    recShape = parseMarginality(profileName, profileType, 'Recommended', recAddShapes, '?', '*', data)\n",
    "    fullShape += recShape\n",
    "\n",
    "    #Parse optional properties from the JSON array obtained from YAML file\n",
    "    optAddShapes = []\n",
    "    optShape = parseMarginality(profileName, profileType, 'Optional', recAddShapes, '?', '*', data)\n",
    "    fullShape += optShape\n",
    "\n",
    "    separator = '\\n'\n",
    "    fullShape += separator.join(minAddShapes)\n",
    "    fullShape += separator.join(recAddShapes)\n",
    "    fullShape += separator.join(optAddShapes)\n",
    "    return fullShape "
   ]
  },
  {
   "cell_type": "code",
   "execution_count": 59,
   "metadata": {},
   "outputs": [
    {
     "name": "stdout",
     "output_type": "stream",
     "text": [
      "end\n"
     ]
    }
   ],
   "source": [
    "#Load config profiles file\n",
    "profiles = pd.read_csv('profiles.csv', delimiter=',', names=['profileName','profileType','fileName'])\n",
    "\n",
    "for index, row in profiles.iterrows():\n",
    "    stream = open(row['fileName'], 'r')\n",
    "    data = load(stream)\n",
    "    fullShape = createShapesFromProfile(row['profileName'], 'schema:' + row['profileType'], data)\n",
    "    output = open(row['profileName'] + '.shex','w')\n",
    "    output.write(fullShape)\n",
    "    output.close()\n",
    "    stream.close()\n",
    "    \n",
    "print('end')\n"
   ]
  },
  {
   "cell_type": "code",
   "execution_count": null,
   "metadata": {},
   "outputs": [],
   "source": []
  }
 ],
 "metadata": {
  "kernelspec": {
   "display_name": "Python 3",
   "language": "python",
   "name": "python3"
  },
  "language_info": {
   "codemirror_mode": {
    "name": "ipython",
    "version": 3
   },
   "file_extension": ".py",
   "mimetype": "text/x-python",
   "name": "python",
   "nbconvert_exporter": "python",
   "pygments_lexer": "ipython3",
   "version": "3.7.1"
  }
 },
 "nbformat": 4,
 "nbformat_minor": 2
}
